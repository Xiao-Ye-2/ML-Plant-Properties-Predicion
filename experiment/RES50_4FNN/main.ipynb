{
 "cells": [
  {
   "cell_type": "code",
   "execution_count": 28,
   "metadata": {},
   "outputs": [],
   "source": [
    "import os\n",
    "import pandas as pd\n",
    "import torch\n",
    "import torch.nn as nn\n",
    "import torch.optim as optim\n",
    "from torchvision import models, transforms\n",
    "from torch.utils.data import Dataset, DataLoader\n",
    "from PIL import Image\n",
    "\n",
    "# Define custom dataset\n",
    "class PlantDataset(Dataset):\n",
    "    def __init__(self, csv_file, root_dir, transform=None):\n",
    "        self.data_frame = pd.read_csv(csv_file)\n",
    "        self.root_dir = root_dir\n",
    "        self.transform = transform\n",
    "\n",
    "    def __len__(self):\n",
    "        return len(self.data_frame)\n",
    "\n",
    "    def __getitem__(self, idx):\n",
    "        img_id = str(self.data_frame.iloc[idx, 0])\n",
    "        img_path = os.path.join(self.root_dir, img_id + '.jpeg')\n",
    "        image = Image.open(img_path).convert('RGB')\n",
    "        if self.transform:\n",
    "            image = self.transform(image)\n",
    "\n",
    "        ancillary_data = self.data_frame.iloc[idx, 1:164].values.astype('float32')\n",
    "        if 'train' in self.root_dir:\n",
    "            labels = self.data_frame.iloc[idx, 164:].values.astype('float32')\n",
    "            return [ancillary_data, image], labels\n",
    "        else:\n",
    "            return [ancillary_data, image], img_id\n",
    "\n",
    "# Define transformations\n",
    "data_transforms = transforms.Compose([\n",
    "    transforms.Resize((128, 128)),\n",
    "    transforms.ToTensor(),\n",
    "    # No noise needed since clear images\n",
    "])\n",
    "\n",
    "# Load the datasets\n",
    "train_dataset = PlantDataset(csv_file='data/train.csv', root_dir='data/train_images', transform=data_transforms)\n",
    "test_dataset = PlantDataset(csv_file='data/test.csv', root_dir='data/test_images', transform=data_transforms)\n",
    "\n",
    "train_loader = DataLoader(train_dataset, batch_size=32, shuffle=True)\n",
    "test_loader = DataLoader(test_dataset, batch_size=32, shuffle=False)\n"
   ]
  },
  {
   "cell_type": "code",
   "execution_count": 29,
   "metadata": {},
   "outputs": [
    {
     "name": "stdout",
     "output_type": "stream",
     "text": [
      "43363\n",
      "6391\n",
      "1356\n",
      "200\n"
     ]
    }
   ],
   "source": [
    "print(len(train_dataset))\n",
    "print(len(test_dataset))\n",
    "print(len(train_loader))\n",
    "print(len(test_loader))"
   ]
  },
  {
   "cell_type": "code",
   "execution_count": 30,
   "metadata": {},
   "outputs": [],
   "source": [
    "# Define the CNN model for regression\n",
    "class CNNRegressionModel(nn.Module):\n",
    "    def __init__(self):\n",
    "        super(CNNRegressionModel, self).__init__()\n",
    "        self.cnn = models.resnet50(pretrained=True)\n",
    "        # print(self.cnn.fc.in_features)\n",
    "        self.fc = nn.Sequential(\n",
    "            nn.Linear(self.cnn.fc.in_features + 163, 512),\n",
    "            nn.ReLU(),\n",
    "            nn.Linear(512, 128),\n",
    "            nn.ReLU(),\n",
    "            nn.Linear(128, 64),\n",
    "            nn.ReLU(),\n",
    "            nn.Linear(64, 6)\n",
    "        )\n",
    "        self.cnn.fc = nn.Identity()  # Remove the last fully connected layer\n",
    "\n",
    "    def forward(self, x):\n",
    "        ancillary_data, images = x\n",
    "        cnn_out = self.cnn(images)\n",
    "        combined = torch.cat((cnn_out, ancillary_data), dim=1)\n",
    "        out = self.fc(combined)\n",
    "        return out"
   ]
  },
  {
   "cell_type": "code",
   "execution_count": 31,
   "metadata": {},
   "outputs": [
    {
     "name": "stdout",
     "output_type": "stream",
     "text": [
      "Using device: cuda\n"
     ]
    },
    {
     "name": "stderr",
     "output_type": "stream",
     "text": [
      "c:\\Users\\YZM\\Desktop\\for fun\\pytorch\\torch-playground\\lib\\site-packages\\torchvision\\models\\_utils.py:208: UserWarning: The parameter 'pretrained' is deprecated since 0.13 and may be removed in the future, please use 'weights' instead.\n",
      "  warnings.warn(\n",
      "c:\\Users\\YZM\\Desktop\\for fun\\pytorch\\torch-playground\\lib\\site-packages\\torchvision\\models\\_utils.py:223: UserWarning: Arguments other than a weight enum or `None` for 'weights' are deprecated since 0.13 and may be removed in the future. The current behavior is equivalent to passing `weights=ResNet50_Weights.IMAGENET1K_V1`. You can also use `weights=ResNet50_Weights.DEFAULT` to get the most up-to-date weights.\n",
      "  warnings.warn(msg)\n"
     ]
    },
    {
     "name": "stdout",
     "output_type": "stream",
     "text": [
      "2048\n"
     ]
    }
   ],
   "source": [
    "# Instantiate the models, loss function, and optimizers\n",
    "device = torch.device(\"cuda\" if torch.cuda.is_available() else \"cpu\")\n",
    "print(f\"Using device: {device}\")\n",
    "\n",
    "model = CNNRegressionModel().to(device)\n",
    "criterion = nn.MSELoss()\n",
    "optimizer = optim.Adam(model.parameters(), lr=0.001)"
   ]
  },
  {
   "cell_type": "code",
   "execution_count": 45,
   "metadata": {},
   "outputs": [
    {
     "name": "stdout",
     "output_type": "stream",
     "text": [
      "Epoch 1/10, Loss: 566753.0010\n",
      "Epoch 2/10, Loss: 556726.1136\n",
      "Epoch 3/10, Loss: 517756.4652\n",
      "Epoch 4/10, Loss: 444312.1582\n",
      "Epoch 5/10, Loss: 513669.3934\n",
      "Epoch 6/10, Loss: 408333.1517\n",
      "Epoch 7/10, Loss: 426217.3737\n",
      "Epoch 8/10, Loss: 397726.1440\n",
      "Epoch 9/10, Loss: 509838.8231\n",
      "Epoch 10/10, Loss: 392908.7052\n"
     ]
    }
   ],
   "source": [
    "# Training loop\n",
    "num_epochs = 10\n",
    "for epoch in range(num_epochs):\n",
    "    model.train()\n",
    "    running_loss = 0.0\n",
    "    for inputs, labels in train_loader:\n",
    "        ancillary_data, images = inputs\n",
    "        ancillary_data, images, labels = ancillary_data.to(device), images.to(device), labels.to(device)\n",
    "        optimizer.zero_grad()\n",
    "        outputs = model([ancillary_data, images])\n",
    "        loss = criterion(outputs, labels)\n",
    "        loss.backward()\n",
    "        optimizer.step()\n",
    "        running_loss += loss.item()\n",
    "\n",
    "    epoch_loss = running_loss / len(train_loader)\n",
    "    print(f'Epoch {epoch + 1}/{num_epochs}, Loss: {epoch_loss:.4f}')\n"
   ]
  },
  {
   "cell_type": "code",
   "execution_count": 47,
   "metadata": {},
   "outputs": [
    {
     "name": "stdout",
     "output_type": "stream",
     "text": [
      "Models saved successfully.\n"
     ]
    }
   ],
   "source": [
    "torch.save(model.state_dict(), 'CNNregression.pth')\n",
    "\n",
    "print(\"Models saved successfully.\")"
   ]
  },
  {
   "cell_type": "code",
   "execution_count": 46,
   "metadata": {},
   "outputs": [],
   "source": [
    "# Prediction and Submission\n",
    "model.eval()\n",
    "predictions = []\n",
    "image_ids = []\n",
    "with torch.no_grad():\n",
    "    for inputs, ids in test_loader:\n",
    "        ancillary_data, images = inputs\n",
    "        ancillary_data, images = ancillary_data.to(device), images.to(device)\n",
    "        outputs = model([ancillary_data, images])\n",
    "        predictions.extend(outputs.cpu().numpy())\n",
    "        image_ids.extend([int(id) for id in ids])\n",
    "\n",
    "# Prepare the submission file\n",
    "submission = pd.DataFrame(predictions, columns=['X4', 'X11', 'X18', 'X26', 'X50', 'X3112'])\n",
    "submission['id'] = image_ids\n",
    "submission = submission[['id', 'X4', 'X11', 'X18', 'X26', 'X50', 'X3112']]\n",
    "submission.to_csv('j228ye_cnnregression.csv', index=False)"
   ]
  },
  {
   "cell_type": "code",
   "execution_count": null,
   "metadata": {},
   "outputs": [],
   "source": []
  }
 ],
 "metadata": {
  "kernelspec": {
   "display_name": "torch-playground",
   "language": "python",
   "name": "python3"
  },
  "language_info": {
   "codemirror_mode": {
    "name": "ipython",
    "version": 3
   },
   "file_extension": ".py",
   "mimetype": "text/x-python",
   "name": "python",
   "nbconvert_exporter": "python",
   "pygments_lexer": "ipython3",
   "version": "3.10.1"
  }
 },
 "nbformat": 4,
 "nbformat_minor": 2
}
