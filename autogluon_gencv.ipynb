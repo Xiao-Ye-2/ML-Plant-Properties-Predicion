{
 "cells": [
  {
   "cell_type": "code",
   "execution_count": 32,
   "metadata": {},
   "outputs": [],
   "source": [
    "import os\n",
    "import pandas as pd\n",
    "from sklearn.model_selection import train_test_split\n",
    "import torch\n",
    "\n",
    "torch.set_float32_matmul_precision('high')\n",
    "\n",
    "test_data = pd.read_csv('data/test_preprocessed.csv')\n",
    "test_image_path = 'data/test_images/'\n",
    "\n",
    "test_data['Images'] = test_data['id'].apply(lambda x: os.path.join(test_image_path, str(x) + '.jpeg'))\n"
   ]
  },
  {
   "cell_type": "code",
   "execution_count": 33,
   "metadata": {},
   "outputs": [
    {
     "name": "stderr",
     "output_type": "stream",
     "text": [
      "Load pretrained checkpoint: c:\\Users\\YZM\\Desktop\\for fun\\pytorch\\CS480\\project\\ML-Plant-Properties-Predicion\\AutoluonModel\\feature1\\model.ckpt\n",
      "Load pretrained checkpoint: c:\\Users\\YZM\\Desktop\\for fun\\pytorch\\CS480\\project\\ML-Plant-Properties-Predicion\\AutoluonModel\\feature2\\model.ckpt\n",
      "Load pretrained checkpoint: c:\\Users\\YZM\\Desktop\\for fun\\pytorch\\CS480\\project\\ML-Plant-Properties-Predicion\\AutoluonModel\\feature3\\model.ckpt\n",
      "Load pretrained checkpoint: c:\\Users\\YZM\\Desktop\\for fun\\pytorch\\CS480\\project\\ML-Plant-Properties-Predicion\\AutoluonModel\\feature4\\model.ckpt\n",
      "Load pretrained checkpoint: c:\\Users\\YZM\\Desktop\\for fun\\pytorch\\CS480\\project\\ML-Plant-Properties-Predicion\\AutoluonModel\\idremovedfeature5\\model.ckpt\n",
      "Load pretrained checkpoint: c:\\Users\\YZM\\Desktop\\for fun\\pytorch\\CS480\\project\\ML-Plant-Properties-Predicion\\AutoluonModel\\idremovedfeature6\\model.ckpt\n"
     ]
    }
   ],
   "source": [
    "from autogluon.multimodal import MultiModalPredictor\n",
    "\n",
    "predictor1 = MultiModalPredictor.load(\".\\\\AutoluonModel\\\\feature1\")\n",
    "predictor2 = MultiModalPredictor.load(\".\\\\AutoluonModel\\\\feature2\")\n",
    "predictor3 = MultiModalPredictor.load(\".\\\\AutoluonModel\\\\feature3\")\n",
    "predictor4 = MultiModalPredictor.load(\".\\\\AutoluonModel\\\\feature4\") # remove id doesn't help\n",
    "predictor5 = MultiModalPredictor.load(\".\\\\AutoluonModel\\\\feature5\") # remove id doesn't help\n",
    "predictor6 = MultiModalPredictor.load(\".\\\\AutoluonModel\\\\idremovedfeature6\")"
   ]
  },
  {
   "cell_type": "code",
   "execution_count": 34,
   "metadata": {},
   "outputs": [
    {
     "name": "stdout",
     "output_type": "stream",
     "text": [
      "Predicting DataLoader 0: 100%|██████████| 200/200 [00:43<00:00,  4.60it/s]\n",
      "Predicting DataLoader 0: 100%|██████████| 200/200 [00:43<00:00,  4.55it/s]\n",
      "Predicting DataLoader 0: 100%|██████████| 200/200 [00:43<00:00,  4.59it/s]\n",
      "Predicting DataLoader 0: 100%|██████████| 200/200 [00:43<00:00,  4.59it/s]\n",
      "Predicting DataLoader 0: 100%|██████████| 200/200 [00:44<00:00,  4.54it/s]\n",
      "Predicting DataLoader 0: 100%|██████████| 200/200 [00:40<00:00,  4.91it/s]\n"
     ]
    }
   ],
   "source": [
    "prediction1 = predictor1.predict(test_data)\n",
    "prediction2 = predictor2.predict(test_data)\n",
    "prediction3 = predictor3.predict(test_data)\n",
    "prediction4 = predictor4.predict(test_data)\n",
    "prediction5 = predictor5.predict(test_data)\n",
    "prediction6 = predictor6.predict(test_data)"
   ]
  },
  {
   "cell_type": "code",
   "execution_count": 35,
   "metadata": {},
   "outputs": [
    {
     "name": "stdout",
     "output_type": "stream",
     "text": [
      "(6391, 6)\n"
     ]
    }
   ],
   "source": [
    "import numpy as np\n",
    "\n",
    "total_predictions = np.stack((prediction1, prediction2, prediction3, prediction4 , prediction5, prediction6), axis=1)\n",
    "print(total_predictions.shape)"
   ]
  },
  {
   "cell_type": "code",
   "execution_count": 36,
   "metadata": {},
   "outputs": [
    {
     "name": "stdout",
     "output_type": "stream",
     "text": [
      "Min values: [2.92916029e-01 1.33873997e+02 1.96990260e+04 3.45940007e+03\n",
      " 1.36050911e+01 3.97556994e+05]\n",
      "Max values: [1.37534090e+00 1.74258658e+02 1.97225418e+04 4.17983799e+03\n",
      " 1.71674261e+01 4.13183477e+05]\n",
      "(6,)\n"
     ]
    }
   ],
   "source": [
    "data_frame = pd.read_csv(\"data/train.csv\")\n",
    "\n",
    "target_columns = data_frame.columns[164:]\n",
    "infer_min = data_frame[target_columns].min()\n",
    "infer_max = data_frame[target_columns].max()\n",
    "print(f\"Min values: {infer_min.values}\")\n",
    "print(f\"Max values: {infer_max.values}\")\n",
    "print(infer_max.shape)\n",
    "\n",
    "for i in range(len(total_predictions)):\n",
    "    total_predictions[i] = total_predictions[i] * (infer_max - infer_min) + infer_min\n",
    "\n",
    "submission = pd.DataFrame(total_predictions, columns=['X4', 'X11', 'X18', 'X26', 'X50', 'X3112'])\n",
    "submission['id'] = test_data['id']\n",
    "submission = submission[['id', 'X4', 'X11', 'X18', 'X26', 'X50', 'X3112']]\n",
    "submission.to_csv('j228ye_autogluon.csv', index=False)"
   ]
  }
 ],
 "metadata": {
  "kernelspec": {
   "display_name": "torch-playground",
   "language": "python",
   "name": "python3"
  },
  "language_info": {
   "codemirror_mode": {
    "name": "ipython",
    "version": 3
   },
   "file_extension": ".py",
   "mimetype": "text/x-python",
   "name": "python",
   "nbconvert_exporter": "python",
   "pygments_lexer": "ipython3",
   "version": "3.10.1"
  }
 },
 "nbformat": 4,
 "nbformat_minor": 2
}
