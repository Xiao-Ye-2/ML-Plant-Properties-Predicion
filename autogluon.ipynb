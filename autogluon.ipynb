{
 "cells": [
  {
   "cell_type": "code",
   "execution_count": 97,
   "metadata": {},
   "outputs": [
    {
     "name": "stdout",
     "output_type": "stream",
     "text": [
      "Target feature: X50_mean\n",
      "(43363, 165)\n",
      "(6391, 165)\n"
     ]
    }
   ],
   "source": [
    "import os\n",
    "import pandas as pd\n",
    "from sklearn.model_selection import train_test_split\n",
    "import torch\n",
    "\n",
    "torch.set_float32_matmul_precision('high')\n",
    "\n",
    "# Load ancillary data\n",
    "train_data = pd.read_csv('data/train_preprocessed.csv')\n",
    "test_data = pd.read_csv('data/test_preprocessed.csv')\n",
    "\n",
    "# Path to image folder\n",
    "train_image_path = 'data/train_images/'\n",
    "test_image_path = 'data/test_images/'\n",
    "\n",
    "# Add image paths to the dataframes\n",
    "train_data['Images'] = train_data['id'].apply(lambda x: os.path.join(train_image_path, str(x) + '.jpeg'))\n",
    "test_data['Images'] = test_data['id'].apply(lambda x: os.path.join(test_image_path, str(x) + '.jpeg'))\n",
    "\n",
    "target_columns = train_data.columns[164:-1].tolist()\n",
    "\n",
    "target_feature = 4\n",
    "label = target_columns[target_feature]\n",
    "print(f\"Target feature: {label}\")\n",
    "\n",
    "# drop all target_feature but the label\n",
    "train_data = train_data.drop(columns=[col for col in target_columns if col != label])\n",
    "train_data = train_data.drop(columns=['id'])\n",
    "print(train_data.shape)\n",
    "print(test_data.shape)\n"
   ]
  },
  {
   "cell_type": "code",
   "execution_count": 98,
   "metadata": {},
   "outputs": [],
   "source": [
    "# Split the dataset into training and validation sets\n",
    "val_fraction = 1 / 15  # Change to 1/20 if desired\n",
    "train_indices, val_indices = train_test_split(\n",
    "    train_data.index, test_size=val_fraction, random_state=42)\n",
    "\n",
    "train_df = train_data.iloc[train_indices]\n",
    "val_df = train_data.iloc[val_indices]"
   ]
  },
  {
   "cell_type": "code",
   "execution_count": 99,
   "metadata": {},
   "outputs": [
    {
     "name": "stderr",
     "output_type": "stream",
     "text": [
      "=================== System Info ===================\n",
      "AutoGluon Version:  1.1.1\n",
      "Python Version:     3.10.1\n",
      "Operating System:   Windows\n",
      "Platform Machine:   AMD64\n",
      "Platform Version:   10.0.19045\n",
      "CPU Count:          16\n",
      "Pytorch Version:    2.3.1+cu121\n",
      "CUDA Version:       12.1\n",
      "Memory Avail:       10.43 GB / 31.77 GB (32.8%)\n",
      "Disk Space Avail:   14.35 GB / 300.00 GB (4.8%)\n",
      "===================================================\n",
      "\n",
      "AutoMM starts to create your model. ✨✨✨\n",
      "\n",
      "To track the learning progress, you can open a terminal and launch Tensorboard:\n",
      "    ```shell\n",
      "    # Assume you have installed tensorboard\n",
      "    tensorboard --logdir c:\\Users\\YZM\\Desktop\\for fun\\pytorch\\CS480\\project\\ML-Plant-Properties-Predicion\\AutoluonModel\\idremovedfeature5\n",
      "    ```\n",
      "\n",
      "Seed set to 0\n",
      "GPU Count: 1\n",
      "GPU Count to be Used: 1\n",
      "GPU 0 Name: NVIDIA GeForce RTX 3070 Laptop GPU\n",
      "GPU 0 Memory: 2.28GB/8.0GB (Used/Total)\n",
      "\n",
      "Using 16bit Automatic Mixed Precision (AMP)\n",
      "GPU available: True (cuda), used: True\n",
      "TPU available: False, using: 0 TPU cores\n",
      "HPU available: False, using: 0 HPUs\n",
      "LOCAL_RANK: 0 - CUDA_VISIBLE_DEVICES: [0]\n",
      "\n",
      "  | Name              | Type                | Params | Mode \n",
      "------------------------------------------------------------------\n",
      "0 | model             | MultimodalFusionMLP | 97.5 M | train\n",
      "1 | validation_metric | R2Score             | 0      | train\n",
      "2 | loss_func         | MSELoss             | 0      | train\n",
      "------------------------------------------------------------------\n",
      "97.5 M    Trainable params\n",
      "0         Non-trainable params\n",
      "97.5 M    Total params\n",
      "390.012   Total estimated model params size (MB)\n"
     ]
    },
    {
     "name": "stdout",
     "output_type": "stream",
     "text": [
      "Epoch 0:  50%|████▉     | 2529/5059 [07:40<07:41,  5.49it/s]               "
     ]
    },
    {
     "name": "stderr",
     "output_type": "stream",
     "text": [
      "Epoch 0, global step 158: 'val_r2' reached 0.19771 (best 0.19771), saving model to 'C:\\\\Users\\\\YZM\\\\Desktop\\\\for fun\\\\pytorch\\\\CS480\\\\project\\\\ML-Plant-Properties-Predicion\\\\AutoluonModel\\\\idremovedfeature5\\\\epoch=0-step=158.ckpt' as top 3\n"
     ]
    },
    {
     "name": "stdout",
     "output_type": "stream",
     "text": [
      "Epoch 0: 100%|█████████▉| 5058/5059 [15:32<00:00,  5.42it/s]"
     ]
    },
    {
     "name": "stderr",
     "output_type": "stream",
     "text": [
      "Epoch 0, global step 316: 'val_r2' reached 0.22523 (best 0.22523), saving model to 'C:\\\\Users\\\\YZM\\\\Desktop\\\\for fun\\\\pytorch\\\\CS480\\\\project\\\\ML-Plant-Properties-Predicion\\\\AutoluonModel\\\\idremovedfeature5\\\\epoch=0-step=316.ckpt' as top 3\n"
     ]
    },
    {
     "name": "stdout",
     "output_type": "stream",
     "text": [
      "Epoch 1:  50%|████▉     | 2529/5059 [07:42<07:42,  5.47it/s]"
     ]
    },
    {
     "name": "stderr",
     "output_type": "stream",
     "text": [
      "Epoch 1, global step 475: 'val_r2' reached 0.27011 (best 0.27011), saving model to 'C:\\\\Users\\\\YZM\\\\Desktop\\\\for fun\\\\pytorch\\\\CS480\\\\project\\\\ML-Plant-Properties-Predicion\\\\AutoluonModel\\\\idremovedfeature5\\\\epoch=1-step=475.ckpt' as top 3\n"
     ]
    },
    {
     "name": "stdout",
     "output_type": "stream",
     "text": [
      "Epoch 1: 100%|█████████▉| 5058/5059 [15:31<00:00,  5.43it/s]"
     ]
    },
    {
     "name": "stderr",
     "output_type": "stream",
     "text": [
      "Epoch 1, global step 633: 'val_r2' reached 0.21961 (best 0.27011), saving model to 'C:\\\\Users\\\\YZM\\\\Desktop\\\\for fun\\\\pytorch\\\\CS480\\\\project\\\\ML-Plant-Properties-Predicion\\\\AutoluonModel\\\\idremovedfeature5\\\\epoch=1-step=633.ckpt' as top 3\n"
     ]
    },
    {
     "name": "stdout",
     "output_type": "stream",
     "text": [
      "Epoch 2:  50%|████▉     | 2529/5059 [12:53<12:53,  3.27it/s]"
     ]
    },
    {
     "name": "stderr",
     "output_type": "stream",
     "text": [
      "Epoch 2, global step 792: 'val_r2' reached 0.25596 (best 0.27011), saving model to 'C:\\\\Users\\\\YZM\\\\Desktop\\\\for fun\\\\pytorch\\\\CS480\\\\project\\\\ML-Plant-Properties-Predicion\\\\AutoluonModel\\\\idremovedfeature5\\\\epoch=2-step=792.ckpt' as top 3\n"
     ]
    },
    {
     "name": "stdout",
     "output_type": "stream",
     "text": [
      "Epoch 2: 100%|█████████▉| 5058/5059 [24:48<00:00,  3.40it/s]"
     ]
    },
    {
     "name": "stderr",
     "output_type": "stream",
     "text": [
      "Epoch 2, global step 950: 'val_r2' reached 0.25638 (best 0.27011), saving model to 'C:\\\\Users\\\\YZM\\\\Desktop\\\\for fun\\\\pytorch\\\\CS480\\\\project\\\\ML-Plant-Properties-Predicion\\\\AutoluonModel\\\\idremovedfeature5\\\\epoch=2-step=950.ckpt' as top 3\n"
     ]
    },
    {
     "name": "stdout",
     "output_type": "stream",
     "text": [
      "Epoch 3:  50%|████▉     | 2529/5059 [09:31<09:31,  4.43it/s]"
     ]
    },
    {
     "name": "stderr",
     "output_type": "stream",
     "text": [
      "Epoch 3, global step 1109: 'val_r2' reached 0.27431 (best 0.27431), saving model to 'C:\\\\Users\\\\YZM\\\\Desktop\\\\for fun\\\\pytorch\\\\CS480\\\\project\\\\ML-Plant-Properties-Predicion\\\\AutoluonModel\\\\idremovedfeature5\\\\epoch=3-step=1109.ckpt' as top 3\n"
     ]
    },
    {
     "name": "stdout",
     "output_type": "stream",
     "text": [
      "Epoch 3: 100%|█████████▉| 5058/5059 [19:56<00:00,  4.23it/s]"
     ]
    },
    {
     "name": "stderr",
     "output_type": "stream",
     "text": [
      "Epoch 3, global step 1267: 'val_r2' reached 0.25642 (best 0.27431), saving model to 'C:\\\\Users\\\\YZM\\\\Desktop\\\\for fun\\\\pytorch\\\\CS480\\\\project\\\\ML-Plant-Properties-Predicion\\\\AutoluonModel\\\\idremovedfeature5\\\\epoch=3-step=1267.ckpt' as top 3\n"
     ]
    },
    {
     "name": "stdout",
     "output_type": "stream",
     "text": [
      "Epoch 4:  50%|████▉     | 2529/5059 [09:24<09:24,  4.48it/s]"
     ]
    },
    {
     "name": "stderr",
     "output_type": "stream",
     "text": [
      "Epoch 4, global step 1426: 'val_r2' reached 0.26564 (best 0.27431), saving model to 'C:\\\\Users\\\\YZM\\\\Desktop\\\\for fun\\\\pytorch\\\\CS480\\\\project\\\\ML-Plant-Properties-Predicion\\\\AutoluonModel\\\\idremovedfeature5\\\\epoch=4-step=1426.ckpt' as top 3\n"
     ]
    },
    {
     "name": "stdout",
     "output_type": "stream",
     "text": [
      "Epoch 4: 100%|█████████▉| 5058/5059 [18:15<00:00,  4.62it/s]"
     ]
    },
    {
     "name": "stderr",
     "output_type": "stream",
     "text": [
      "Epoch 4, global step 1584: 'val_r2' reached 0.27773 (best 0.27773), saving model to 'C:\\\\Users\\\\YZM\\\\Desktop\\\\for fun\\\\pytorch\\\\CS480\\\\project\\\\ML-Plant-Properties-Predicion\\\\AutoluonModel\\\\idremovedfeature5\\\\epoch=4-step=1584.ckpt' as top 3\n"
     ]
    },
    {
     "name": "stdout",
     "output_type": "stream",
     "text": [
      "Epoch 5:  50%|████▉     | 2529/5059 [10:19<10:19,  4.08it/s]"
     ]
    },
    {
     "name": "stderr",
     "output_type": "stream",
     "text": [
      "Epoch 5, global step 1743: 'val_r2' was not in top 3\n"
     ]
    },
    {
     "name": "stdout",
     "output_type": "stream",
     "text": [
      "Epoch 5: 100%|█████████▉| 5058/5059 [18:07<00:00,  4.65it/s]"
     ]
    },
    {
     "name": "stderr",
     "output_type": "stream",
     "text": [
      "Epoch 5, global step 1901: 'val_r2' was not in top 3\n"
     ]
    },
    {
     "name": "stdout",
     "output_type": "stream",
     "text": [
      "Epoch 6:  50%|████▉     | 2529/5059 [07:43<07:43,  5.45it/s]"
     ]
    },
    {
     "name": "stderr",
     "output_type": "stream",
     "text": [
      "Epoch 6, global step 2060: 'val_r2' was not in top 3\n"
     ]
    },
    {
     "name": "stdout",
     "output_type": "stream",
     "text": [
      "Epoch 6: 100%|█████████▉| 5058/5059 [15:32<00:00,  5.42it/s]"
     ]
    },
    {
     "name": "stderr",
     "output_type": "stream",
     "text": [
      "Epoch 6, global step 2218: 'val_r2' was not in top 3\n"
     ]
    },
    {
     "name": "stdout",
     "output_type": "stream",
     "text": [
      "Epoch 7:  50%|████▉     | 2529/5059 [07:52<07:52,  5.36it/s]"
     ]
    },
    {
     "name": "stderr",
     "output_type": "stream",
     "text": [
      "Epoch 7, global step 2377: 'val_r2' was not in top 3\n"
     ]
    },
    {
     "name": "stdout",
     "output_type": "stream",
     "text": [
      "Epoch 7: 100%|█████████▉| 5058/5059 [15:34<00:00,  5.41it/s]"
     ]
    },
    {
     "name": "stderr",
     "output_type": "stream",
     "text": [
      "Epoch 7, global step 2535: 'val_r2' was not in top 3\n"
     ]
    },
    {
     "name": "stdout",
     "output_type": "stream",
     "text": [
      "Epoch 8:  50%|████▉     | 2529/5059 [07:35<07:35,  5.55it/s]"
     ]
    },
    {
     "name": "stderr",
     "output_type": "stream",
     "text": [
      "Epoch 8, global step 2694: 'val_r2' was not in top 3\n"
     ]
    },
    {
     "name": "stdout",
     "output_type": "stream",
     "text": [
      "Epoch 8: 100%|█████████▉| 5058/5059 [15:27<00:00,  5.46it/s]"
     ]
    },
    {
     "name": "stderr",
     "output_type": "stream",
     "text": [
      "Epoch 8, global step 2852: 'val_r2' reached 0.29014 (best 0.29014), saving model to 'C:\\\\Users\\\\YZM\\\\Desktop\\\\for fun\\\\pytorch\\\\CS480\\\\project\\\\ML-Plant-Properties-Predicion\\\\AutoluonModel\\\\idremovedfeature5\\\\epoch=8-step=2852.ckpt' as top 3\n"
     ]
    },
    {
     "name": "stdout",
     "output_type": "stream",
     "text": [
      "Epoch 9:  50%|████▉     | 2529/5059 [07:44<07:44,  5.45it/s]"
     ]
    },
    {
     "name": "stderr",
     "output_type": "stream",
     "text": [
      "Epoch 9, global step 3011: 'val_r2' reached 0.28825 (best 0.29014), saving model to 'C:\\\\Users\\\\YZM\\\\Desktop\\\\for fun\\\\pytorch\\\\CS480\\\\project\\\\ML-Plant-Properties-Predicion\\\\AutoluonModel\\\\idremovedfeature5\\\\epoch=9-step=3011.ckpt' as top 3\n"
     ]
    },
    {
     "name": "stdout",
     "output_type": "stream",
     "text": [
      "Epoch 9: 100%|█████████▉| 5058/5059 [15:30<00:00,  5.43it/s]"
     ]
    },
    {
     "name": "stderr",
     "output_type": "stream",
     "text": [
      "Epoch 9, global step 3169: 'val_r2' reached 0.28815 (best 0.29014), saving model to 'C:\\\\Users\\\\YZM\\\\Desktop\\\\for fun\\\\pytorch\\\\CS480\\\\project\\\\ML-Plant-Properties-Predicion\\\\AutoluonModel\\\\idremovedfeature5\\\\epoch=9-step=3169.ckpt' as top 3\n"
     ]
    },
    {
     "name": "stdout",
     "output_type": "stream",
     "text": [
      "Epoch 10:  50%|████▉     | 2529/5059 [07:35<07:35,  5.56it/s]"
     ]
    },
    {
     "name": "stderr",
     "output_type": "stream",
     "text": [
      "Epoch 10, global step 3328: 'val_r2' reached 0.29562 (best 0.29562), saving model to 'C:\\\\Users\\\\YZM\\\\Desktop\\\\for fun\\\\pytorch\\\\CS480\\\\project\\\\ML-Plant-Properties-Predicion\\\\AutoluonModel\\\\idremovedfeature5\\\\epoch=10-step=3328.ckpt' as top 3\n"
     ]
    },
    {
     "name": "stdout",
     "output_type": "stream",
     "text": [
      "Epoch 10: 100%|█████████▉| 5058/5059 [15:22<00:00,  5.48it/s]"
     ]
    },
    {
     "name": "stderr",
     "output_type": "stream",
     "text": [
      "Epoch 10, global step 3486: 'val_r2' was not in top 3\n"
     ]
    },
    {
     "name": "stdout",
     "output_type": "stream",
     "text": [
      "Epoch 11:  50%|████▉     | 2529/5059 [07:36<07:36,  5.54it/s]"
     ]
    },
    {
     "name": "stderr",
     "output_type": "stream",
     "text": [
      "Epoch 11, global step 3645: 'val_r2' reached 0.30502 (best 0.30502), saving model to 'C:\\\\Users\\\\YZM\\\\Desktop\\\\for fun\\\\pytorch\\\\CS480\\\\project\\\\ML-Plant-Properties-Predicion\\\\AutoluonModel\\\\idremovedfeature5\\\\epoch=11-step=3645.ckpt' as top 3\n"
     ]
    },
    {
     "name": "stdout",
     "output_type": "stream",
     "text": [
      "Epoch 11: 100%|█████████▉| 5058/5059 [15:22<00:00,  5.48it/s]"
     ]
    },
    {
     "name": "stderr",
     "output_type": "stream",
     "text": [
      "Epoch 11, global step 3803: 'val_r2' reached 0.31313 (best 0.31313), saving model to 'C:\\\\Users\\\\YZM\\\\Desktop\\\\for fun\\\\pytorch\\\\CS480\\\\project\\\\ML-Plant-Properties-Predicion\\\\AutoluonModel\\\\idremovedfeature5\\\\epoch=11-step=3803.ckpt' as top 3\n"
     ]
    },
    {
     "name": "stdout",
     "output_type": "stream",
     "text": [
      "Epoch 12:  50%|████▉     | 2529/5059 [07:38<07:38,  5.52it/s]"
     ]
    },
    {
     "name": "stderr",
     "output_type": "stream",
     "text": [
      "Epoch 12, global step 3962: 'val_r2' reached 0.31453 (best 0.31453), saving model to 'C:\\\\Users\\\\YZM\\\\Desktop\\\\for fun\\\\pytorch\\\\CS480\\\\project\\\\ML-Plant-Properties-Predicion\\\\AutoluonModel\\\\idremovedfeature5\\\\epoch=12-step=3962.ckpt' as top 3\n"
     ]
    },
    {
     "name": "stdout",
     "output_type": "stream",
     "text": [
      "Epoch 12: 100%|█████████▉| 5058/5059 [15:25<00:00,  5.47it/s]"
     ]
    },
    {
     "name": "stderr",
     "output_type": "stream",
     "text": [
      "Epoch 12, global step 4120: 'val_r2' was not in top 3\n"
     ]
    },
    {
     "name": "stdout",
     "output_type": "stream",
     "text": [
      "Epoch 13:  50%|████▉     | 2529/5059 [57:57<57:58,  0.73it/s]  "
     ]
    },
    {
     "name": "stderr",
     "output_type": "stream",
     "text": [
      "Epoch 13, global step 4279: 'val_r2' reached 0.31768 (best 0.31768), saving model to 'C:\\\\Users\\\\YZM\\\\Desktop\\\\for fun\\\\pytorch\\\\CS480\\\\project\\\\ML-Plant-Properties-Predicion\\\\AutoluonModel\\\\idremovedfeature5\\\\epoch=13-step=4279.ckpt' as top 3\n"
     ]
    },
    {
     "name": "stdout",
     "output_type": "stream",
     "text": [
      "Epoch 13: 100%|█████████▉| 5058/5059 [1:05:53<00:00,  1.28it/s]"
     ]
    },
    {
     "name": "stderr",
     "output_type": "stream",
     "text": [
      "Epoch 13, global step 4437: 'val_r2' was not in top 3\n"
     ]
    },
    {
     "name": "stdout",
     "output_type": "stream",
     "text": [
      "Epoch 14:  50%|████▉     | 2529/5059 [13:23<13:23,  3.15it/s]  "
     ]
    },
    {
     "name": "stderr",
     "output_type": "stream",
     "text": [
      "Epoch 14, global step 4596: 'val_r2' reached 0.31421 (best 0.31768), saving model to 'C:\\\\Users\\\\YZM\\\\Desktop\\\\for fun\\\\pytorch\\\\CS480\\\\project\\\\ML-Plant-Properties-Predicion\\\\AutoluonModel\\\\idremovedfeature5\\\\epoch=14-step=4596.ckpt' as top 3\n"
     ]
    },
    {
     "name": "stdout",
     "output_type": "stream",
     "text": [
      "Epoch 14: 100%|█████████▉| 5058/5059 [24:59<00:00,  3.37it/s]"
     ]
    },
    {
     "name": "stderr",
     "output_type": "stream",
     "text": [
      "Epoch 14, global step 4754: 'val_r2' was not in top 3\n"
     ]
    },
    {
     "name": "stdout",
     "output_type": "stream",
     "text": [
      "Epoch 15:  50%|████▉     | 2529/5059 [10:14<10:15,  4.11it/s]"
     ]
    },
    {
     "name": "stderr",
     "output_type": "stream",
     "text": [
      "Epoch 15, global step 4913: 'val_r2' was not in top 3\n"
     ]
    },
    {
     "name": "stdout",
     "output_type": "stream",
     "text": [
      "Epoch 15: 100%|█████████▉| 5058/5059 [18:58<00:00,  4.44it/s]"
     ]
    },
    {
     "name": "stderr",
     "output_type": "stream",
     "text": [
      "Epoch 15, global step 5071: 'val_r2' reached 0.31521 (best 0.31768), saving model to 'C:\\\\Users\\\\YZM\\\\Desktop\\\\for fun\\\\pytorch\\\\CS480\\\\project\\\\ML-Plant-Properties-Predicion\\\\AutoluonModel\\\\idremovedfeature5\\\\epoch=15-step=5071.ckpt' as top 3\n"
     ]
    },
    {
     "name": "stdout",
     "output_type": "stream",
     "text": [
      "Epoch 16:  50%|████▉     | 2529/5059 [11:19<11:19,  3.72it/s]"
     ]
    },
    {
     "name": "stderr",
     "output_type": "stream",
     "text": [
      "Epoch 16, global step 5230: 'val_r2' reached 0.31782 (best 0.31782), saving model to 'C:\\\\Users\\\\YZM\\\\Desktop\\\\for fun\\\\pytorch\\\\CS480\\\\project\\\\ML-Plant-Properties-Predicion\\\\AutoluonModel\\\\idremovedfeature5\\\\epoch=16-step=5230.ckpt' as top 3\n"
     ]
    },
    {
     "name": "stdout",
     "output_type": "stream",
     "text": [
      "Epoch 16: 100%|█████████▉| 5058/5059 [20:24<00:00,  4.13it/s]"
     ]
    },
    {
     "name": "stderr",
     "output_type": "stream",
     "text": [
      "Epoch 16, global step 5388: 'val_r2' reached 0.31885 (best 0.31885), saving model to 'C:\\\\Users\\\\YZM\\\\Desktop\\\\for fun\\\\pytorch\\\\CS480\\\\project\\\\ML-Plant-Properties-Predicion\\\\AutoluonModel\\\\idremovedfeature5\\\\epoch=16-step=5388.ckpt' as top 3\n"
     ]
    },
    {
     "name": "stdout",
     "output_type": "stream",
     "text": [
      "Epoch 17:  50%|████▉     | 2529/5059 [10:43<10:44,  3.93it/s]"
     ]
    },
    {
     "name": "stderr",
     "output_type": "stream",
     "text": [
      "Epoch 17, global step 5547: 'val_r2' reached 0.31824 (best 0.31885), saving model to 'C:\\\\Users\\\\YZM\\\\Desktop\\\\for fun\\\\pytorch\\\\CS480\\\\project\\\\ML-Plant-Properties-Predicion\\\\AutoluonModel\\\\idremovedfeature5\\\\epoch=17-step=5547.ckpt' as top 3\n"
     ]
    },
    {
     "name": "stdout",
     "output_type": "stream",
     "text": [
      "Epoch 17: 100%|█████████▉| 5058/5059 [20:53<00:00,  4.03it/s]"
     ]
    },
    {
     "name": "stderr",
     "output_type": "stream",
     "text": [
      "Epoch 17, global step 5705: 'val_r2' reached 0.31813 (best 0.31885), saving model to 'C:\\\\Users\\\\YZM\\\\Desktop\\\\for fun\\\\pytorch\\\\CS480\\\\project\\\\ML-Plant-Properties-Predicion\\\\AutoluonModel\\\\idremovedfeature5\\\\epoch=17-step=5705.ckpt' as top 3\n"
     ]
    },
    {
     "name": "stdout",
     "output_type": "stream",
     "text": [
      "Epoch 18:  50%|████▉     | 2529/5059 [08:52<08:52,  4.75it/s]"
     ]
    },
    {
     "name": "stderr",
     "output_type": "stream",
     "text": [
      "Epoch 18, global step 5864: 'val_r2' reached 0.31839 (best 0.31885), saving model to 'C:\\\\Users\\\\YZM\\\\Desktop\\\\for fun\\\\pytorch\\\\CS480\\\\project\\\\ML-Plant-Properties-Predicion\\\\AutoluonModel\\\\idremovedfeature5\\\\epoch=18-step=5864.ckpt' as top 3\n"
     ]
    },
    {
     "name": "stdout",
     "output_type": "stream",
     "text": [
      "Epoch 18: 100%|█████████▉| 5058/5059 [20:42<00:00,  4.07it/s]"
     ]
    },
    {
     "name": "stderr",
     "output_type": "stream",
     "text": [
      "Epoch 18, global step 6022: 'val_r2' reached 0.31890 (best 0.31890), saving model to 'C:\\\\Users\\\\YZM\\\\Desktop\\\\for fun\\\\pytorch\\\\CS480\\\\project\\\\ML-Plant-Properties-Predicion\\\\AutoluonModel\\\\idremovedfeature5\\\\epoch=18-step=6022.ckpt' as top 3\n"
     ]
    },
    {
     "name": "stdout",
     "output_type": "stream",
     "text": [
      "Epoch 19:  50%|████▉     | 2529/5059 [08:22<08:23,  5.03it/s]"
     ]
    },
    {
     "name": "stderr",
     "output_type": "stream",
     "text": [
      "Epoch 19, global step 6181: 'val_r2' reached 0.31901 (best 0.31901), saving model to 'C:\\\\Users\\\\YZM\\\\Desktop\\\\for fun\\\\pytorch\\\\CS480\\\\project\\\\ML-Plant-Properties-Predicion\\\\AutoluonModel\\\\idremovedfeature5\\\\epoch=19-step=6181.ckpt' as top 3\n"
     ]
    },
    {
     "name": "stdout",
     "output_type": "stream",
     "text": [
      "Epoch 19: 100%|█████████▉| 5058/5059 [18:21<00:00,  4.59it/s]"
     ]
    },
    {
     "name": "stderr",
     "output_type": "stream",
     "text": [
      "Epoch 19, global step 6339: 'val_r2' reached 0.31898 (best 0.31901), saving model to 'C:\\\\Users\\\\YZM\\\\Desktop\\\\for fun\\\\pytorch\\\\CS480\\\\project\\\\ML-Plant-Properties-Predicion\\\\AutoluonModel\\\\idremovedfeature5\\\\epoch=19-step=6339.ckpt' as top 3\n"
     ]
    },
    {
     "name": "stdout",
     "output_type": "stream",
     "text": [
      "Epoch 19: 100%|██████████| 5059/5059 [18:31<00:00,  4.55it/s]"
     ]
    },
    {
     "name": "stderr",
     "output_type": "stream",
     "text": [
      "`Trainer.fit` stopped: `max_epochs=20` reached.\n"
     ]
    },
    {
     "name": "stdout",
     "output_type": "stream",
     "text": [
      "Epoch 19: 100%|██████████| 5059/5059 [18:31<00:00,  4.55it/s]\n"
     ]
    },
    {
     "name": "stderr",
     "output_type": "stream",
     "text": [
      "Start to fuse 3 checkpoints via the greedy soup algorithm.\n"
     ]
    },
    {
     "name": "stdout",
     "output_type": "stream",
     "text": [
      "Predicting DataLoader 0: 100%|██████████| 91/91 [00:18<00:00,  4.89it/s]\n",
      "Predicting DataLoader 0: 100%|██████████| 91/91 [00:18<00:00,  4.93it/s]\n",
      "Predicting DataLoader 0: 100%|██████████| 91/91 [00:18<00:00,  4.94it/s]\n"
     ]
    },
    {
     "name": "stderr",
     "output_type": "stream",
     "text": [
      "AutoMM has created your model. 🎉🎉🎉\n",
      "\n",
      "To load the model, use the code below:\n",
      "    ```python\n",
      "    from autogluon.multimodal import MultiModalPredictor\n",
      "    predictor = MultiModalPredictor.load(\"c:\\Users\\YZM\\Desktop\\for fun\\pytorch\\CS480\\project\\ML-Plant-Properties-Predicion\\AutoluonModel\\idremovedfeature5\")\n",
      "    ```\n",
      "\n",
      "If you are not satisfied with the model, try to increase the training time, \n",
      "adjust the hyperparameters (https://auto.gluon.ai/stable/tutorials/multimodal/advanced_topics/customization.html),\n",
      "or post issues on GitHub (https://github.com/autogluon/autogluon/issues).\n",
      "\n",
      "\n"
     ]
    },
    {
     "data": {
      "text/plain": [
       "<autogluon.multimodal.predictor.MultiModalPredictor at 0x1fc0d18c730>"
      ]
     },
     "execution_count": 99,
     "metadata": {},
     "output_type": "execute_result"
    }
   ],
   "source": [
    "from autogluon.multimodal import MultiModalPredictor\n",
    "\n",
    "# Initialize MultiModalPredictor with the target columns\n",
    "predictor = MultiModalPredictor(label=label, problem_type='regression', eval_metric='r2', path=f'./AutoluonModel/idremovedfeature{target_feature + 1}')\n",
    "\n",
    "# Train the model\n",
    "predictor.fit(train_data=train_df, tuning_data=val_df)"
   ]
  },
  {
   "cell_type": "code",
   "execution_count": 100,
   "metadata": {},
   "outputs": [
    {
     "name": "stdout",
     "output_type": "stream",
     "text": [
      "Predicting DataLoader 0: 100%|██████████| 91/91 [00:18<00:00,  4.92it/s]\n",
      "Validation Performance: {'r2': 0.3189964330393533}\n"
     ]
    }
   ],
   "source": [
    "# Evaluate on the validation set\n",
    "validation_performance = predictor.evaluate(val_df)\n",
    "\n",
    "print(\"Validation Performance:\", validation_performance)"
   ]
  },
  {
   "cell_type": "code",
   "execution_count": 101,
   "metadata": {},
   "outputs": [
    {
     "name": "stdout",
     "output_type": "stream",
     "text": [
      "Predicting DataLoader 0: 100%|██████████| 200/200 [00:40<00:00,  4.91it/s]\n",
      "0       0.394006\n",
      "1       0.399667\n",
      "2       0.433939\n",
      "3       0.703343\n",
      "4       0.439580\n",
      "          ...   \n",
      "6386    0.323170\n",
      "6387    0.424738\n",
      "6388    0.372152\n",
      "6389    0.448061\n",
      "6390    0.367282\n",
      "Name: X50_mean, Length: 6391, dtype: float32\n"
     ]
    }
   ],
   "source": [
    "predictions = predictor.predict(test_data)\n",
    "print(predictions)"
   ]
  },
  {
   "cell_type": "code",
   "execution_count": 110,
   "metadata": {},
   "outputs": [
    {
     "name": "stderr",
     "output_type": "stream",
     "text": [
      "Model timm_image weights saved to autogModel\\timm_image/pytorch_model.bin.\n",
      "Timm config saved to autogModel\\timm_image/config.json.\n"
     ]
    },
    {
     "name": "stdout",
     "output_type": "stream",
     "text": [
      "autogModel\n"
     ]
    }
   ],
   "source": [
    "print(predictor.dump_model(\"autogModel\"))"
   ]
  },
  {
   "cell_type": "code",
   "execution_count": 114,
   "metadata": {},
   "outputs": [
    {
     "name": "stdout",
     "output_type": "stream",
     "text": [
      "<generator object Module.parameters at 0x000001FBB8D14510>\n"
     ]
    }
   ],
   "source": [
    "import json\n",
    "import torch\n",
    "import timm\n",
    "\n",
    "# Load the configuration from the config file\n",
    "config_path = 'autogModel/timm_image/config.json'\n",
    "with open(config_path, 'r') as f:\n",
    "    config = json.load(f)\n",
    "\n",
    "# Extract relevant details from the config\n",
    "architecture = config['architecture']\n",
    "num_classes = config['num_classes']\n",
    "pretrained_cfg = config['pretrained_cfg']\n",
    "\n",
    "# Initialize the model\n",
    "model = timm.create_model(architecture, pretrained=False, num_classes=num_classes)\n",
    "\n",
    "# Adjust model if necessary (e.g., changing the classifier)\n",
    "model.head.fc.fc2 = torch.nn.Linear(model.head.fc.fc2.in_features, num_classes)\n",
    "\n",
    "# Load the weights\n",
    "weights_path = 'autogModel/timm_image/pytorch_model.bin'\n",
    "state_dict = torch.load(weights_path, map_location=torch.device('cpu'))\n",
    "model.load_state_dict(state_dict, strict=False)\n",
    "\n",
    "# Print the model architecture to inspect it\n",
    "print(model)\n"
   ]
  }
 ],
 "metadata": {
  "kernelspec": {
   "display_name": "torch-playground",
   "language": "python",
   "name": "python3"
  },
  "language_info": {
   "codemirror_mode": {
    "name": "ipython",
    "version": 3
   },
   "file_extension": ".py",
   "mimetype": "text/x-python",
   "name": "python",
   "nbconvert_exporter": "python",
   "pygments_lexer": "ipython3",
   "version": "3.10.1"
  }
 },
 "nbformat": 4,
 "nbformat_minor": 2
}
