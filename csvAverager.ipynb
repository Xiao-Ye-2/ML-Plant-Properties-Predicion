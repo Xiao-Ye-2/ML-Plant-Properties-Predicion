{
 "cells": [
  {
   "cell_type": "code",
   "execution_count": 8,
   "metadata": {},
   "outputs": [],
   "source": [
    "import pandas as pd\n",
    "\n",
    "submission1 = pd.read_csv('predictions.csv')\n",
    "submission2 = pd.read_csv('j228ye_autolugon.csv')\n",
    "\n",
    "# Merge the DataFrames on 'id' column\n",
    "merged = pd.merge(submission1, submission2, on='id', suffixes=('_1', '_2'))\n",
    "\n",
    "# Compute the average for each entry\n",
    "for column in ['X4', 'X11', 'X18', 'X26', 'X50', 'X3112']:\n",
    "    merged[column] = (4 / 9 * merged[f'{column}_1'] + 5 / 9 * merged[f'{column}_2'])\n",
    "\n",
    "# Drop the suffix columns\n",
    "merged = merged[['id', 'X4', 'X11', 'X18', 'X26', 'X50', 'X3112']]\n",
    "\n",
    "# Save the averaged results to a new CSV file\n",
    "merged.to_csv('average2.csv', index=False)"
   ]
  },
  {
   "cell_type": "code",
   "execution_count": null,
   "metadata": {},
   "outputs": [],
   "source": [
    "submission = pd.read_csv('highest.csv')\n",
    "\n",
    "#Load the different file\n",
    "different_file = pd.read_csv('j228ye_vit-predict.csv')\n",
    "\n",
    "# Replace the X4 column in the submission dataframe with the X4 column from the different file\n",
    "# submission['X4'] = different_file['X4']\n",
    "submission['X11'] = 4 / 5 * submission['X11'] + 1 / 5 * different_file['X11'] # better than 1/2\n",
    "# submission['X18'] = 4 / 5 * submission['X18'] + 1 / 5 * different_file['X18']\n",
    "# submission['X26'] = 9 / 10 * submission['X26'] + 1 / 10 * different_file['X26']\n",
    "submission['X50'] = 4 / 5 * submission['X50'] + 1 / 5 * different_file['X50'] # 4/5 better than 9/10\n",
    "# submission['X3112'] = 4 / 5 * submission['X3112'] + 1 / 5 * different_file['X3112'] # 4/5 is slightly better\n",
    "\n",
    "# Save the modified dataframe back to a CSV file\n",
    "submission.to_csv('j228ye_vit-modified.csv', index=False)"
   ]
  }
 ],
 "metadata": {
  "kernelspec": {
   "display_name": "torch-playground",
   "language": "python",
   "name": "python3"
  },
  "language_info": {
   "codemirror_mode": {
    "name": "ipython",
    "version": 3
   },
   "file_extension": ".py",
   "mimetype": "text/x-python",
   "name": "python",
   "nbconvert_exporter": "python",
   "pygments_lexer": "ipython3",
   "version": "3.10.1"
  }
 },
 "nbformat": 4,
 "nbformat_minor": 2
}
