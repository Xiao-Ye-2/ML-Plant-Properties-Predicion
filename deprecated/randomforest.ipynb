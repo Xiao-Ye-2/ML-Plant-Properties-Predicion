{
 "cells": [
  {
   "cell_type": "code",
   "execution_count": null,
   "metadata": {},
   "outputs": [],
   "source": [
    "from sklearn.metrics import mean_squared_error, r2_score\n",
    "\n",
    "df = pd.read_csv('./data/train.csv')\n",
    "\n",
    "features = df.iloc[:, 1:-6]\n",
    "traits = df.iloc[:, -6:]\n",
    "regressor = RandomForestRegressor(\n",
    "    n_estimators=500,\n",
    "    max_depth=50,\n",
    "    min_samples_split=15,\n",
    "    min_samples_leaf=6,\n",
    "    max_features='sqrt',\n",
    "    bootstrap=True,\n",
    "    random_state=42,\n",
    "    n_jobs=-1\n",
    ")\n",
    "regressor.fit(features, traits)\n",
    "\n",
    "df_train = pd.read_csv('./data/train.csv')\n",
    "features = df_train.iloc[:, 1:-6]\n",
    "traits = df_train.iloc[:, -6:]\n",
    "y_pred = regressor.predict(features)\n",
    "\n",
    "mse = mean_squared_error(traits, y_pred)\n",
    "r2 = r2_score(traits, y_pred)\n",
    "print(f'Mean Squared Error: {mse}')\n",
    "print(f'R-squared: {r2}')"
   ]
  },
  {
   "cell_type": "code",
   "execution_count": null,
   "metadata": {},
   "outputs": [],
   "source": [
    "df_test = pd.read_csv('./data/test.csv')\n",
    "features = df_test.iloc[:, 1:]\n",
    "y_pred = torch.from_numpy(regressor.predict(features)).to(device)\n",
    "# outputs = y_pred * (infer_max - infer_min) + infer_min\n",
    "\n",
    "predictions = []\n",
    "predictions.extend(outputs.cpu().numpy())\n",
    "\n",
    "# Prepare the submission file\n",
    "submission = pd.DataFrame(predictions, columns=['X4', 'X11', 'X18', 'X26', 'X50', 'X3112'])\n",
    "submission['id'] = image_ids\n",
    "submission = submission[['id', 'X4', 'X11', 'X18', 'X26', 'X50', 'X3112']]\n",
    "submission.to_csv('j228ye_rest18linear.csv', index=False)"
   ]
  }
 ],
 "metadata": {
  "kernelspec": {
   "display_name": "torch-playground",
   "language": "python",
   "name": "python3"
  },
  "language_info": {
   "codemirror_mode": {
    "name": "ipython",
    "version": 3
   },
   "file_extension": ".py",
   "mimetype": "text/x-python",
   "name": "python",
   "nbconvert_exporter": "python",
   "pygments_lexer": "ipython3",
   "version": "3.10.1"
  }
 },
 "nbformat": 4,
 "nbformat_minor": 2
}
